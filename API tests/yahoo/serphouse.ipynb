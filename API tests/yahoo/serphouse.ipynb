{
 "cells": [
  {
   "cell_type": "code",
   "execution_count": 2,
   "metadata": {},
   "outputs": [
    {
     "name": "stdout",
     "output_type": "stream",
     "text": [
      "{\"status\":\"error\",\"msg\":\"Unauthenticated\"}\n"
     ]
    }
   ],
   "source": [
    "import requests\n",
    "url = \"https://api.serphouse.com/serp/live\"\n",
    "payload = '{\"data\":{\"domain\": \"yahoo.com\",\"lang\": \"en\",\"q\": \"Coffee\",\"loc\": \"Texas,United States\",\"device\": \"desktop\",\"serp_type\": \"web\"}}'\n",
    "headers = {\n",
    "    'accept': \"application/json\",\n",
    "    'content-type': \"application/json\",\n",
    "    'authorization': \"Bearer API_TOKEN\"\n",
    "}\n",
    "\n",
    "response = requests.request(\"POST\", url, data=payload, headers=headers)\n",
    "print(response.text)"
   ]
  },
  {
   "cell_type": "code",
   "execution_count": null,
   "metadata": {},
   "outputs": [],
   "source": []
  }
 ],
 "metadata": {
  "kernelspec": {
   "display_name": "Python 3.9.12 ('base')",
   "language": "python",
   "name": "python3"
  },
  "language_info": {
   "codemirror_mode": {
    "name": "ipython",
    "version": 3
   },
   "file_extension": ".py",
   "mimetype": "text/x-python",
   "name": "python",
   "nbconvert_exporter": "python",
   "pygments_lexer": "ipython3",
   "version": "3.9.12"
  },
  "orig_nbformat": 4,
  "vscode": {
   "interpreter": {
    "hash": "7c0295490fe2d32d43df6205ab9426ef1aafaa262ea3093650467397a43b2306"
   }
  }
 },
 "nbformat": 4,
 "nbformat_minor": 2
}
