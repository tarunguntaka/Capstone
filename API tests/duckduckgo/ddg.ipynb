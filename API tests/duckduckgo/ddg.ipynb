{
 "cells": [
  {
   "cell_type": "code",
   "execution_count": 1,
   "metadata": {},
   "outputs": [],
   "source": [
    "import pandas as pd"
   ]
  },
  {
   "cell_type": "code",
   "execution_count": 2,
   "metadata": {},
   "outputs": [
    {
     "name": "stdout",
     "output_type": "stream",
     "text": [
      "Looking in indexes: https://pypi.org/simple, https://pypi.ngc.nvidia.com\n",
      "Requirement already satisfied: duckduckgo-search in c:\\users\\khair\\anaconda3\\lib\\site-packages (2.6.1)\n",
      "Requirement already satisfied: click>=8.1.3 in c:\\users\\khair\\anaconda3\\lib\\site-packages (from duckduckgo-search) (8.1.3)\n",
      "Requirement already satisfied: requests>=2.28.1 in c:\\users\\khair\\anaconda3\\lib\\site-packages (from duckduckgo-search) (2.28.1)\n",
      "Requirement already satisfied: colorama in c:\\users\\khair\\anaconda3\\lib\\site-packages (from click>=8.1.3->duckduckgo-search) (0.4.4)\n",
      "Requirement already satisfied: urllib3<1.27,>=1.21.1 in c:\\users\\khair\\anaconda3\\lib\\site-packages (from requests>=2.28.1->duckduckgo-search) (1.26.9)\n",
      "Requirement already satisfied: certifi>=2017.4.17 in c:\\users\\khair\\anaconda3\\lib\\site-packages (from requests>=2.28.1->duckduckgo-search) (2021.10.8)\n",
      "Requirement already satisfied: idna<4,>=2.5 in c:\\users\\khair\\anaconda3\\lib\\site-packages (from requests>=2.28.1->duckduckgo-search) (3.3)\n",
      "Requirement already satisfied: charset-normalizer<3,>=2 in c:\\users\\khair\\anaconda3\\lib\\site-packages (from requests>=2.28.1->duckduckgo-search) (2.0.4)\n",
      "Note: you may need to restart the kernel to use updated packages.\n"
     ]
    },
    {
     "name": "stderr",
     "output_type": "stream",
     "text": [
      "\n",
      "[notice] A new release of pip available: 22.2.2 -> 22.3.1\n",
      "[notice] To update, run: python.exe -m pip install --upgrade pip\n"
     ]
    }
   ],
   "source": [
    "pip install duckduckgo-search\n"
   ]
  },
  {
   "cell_type": "code",
   "execution_count": 5,
   "metadata": {},
   "outputs": [],
   "source": [
    "from duckduckgo_search import ddg"
   ]
  },
  {
   "cell_type": "code",
   "execution_count": 3,
   "metadata": {},
   "outputs": [],
   "source": [
    "query = 'dualshock4'\n",
    "region = 'us-en'\n",
    "safeseach = 'Moderate'\n",
    "time = None\n",
    "max_results = 10000\n",
    "output = 'csv'\n",
    "download = False"
   ]
  },
  {
   "cell_type": "code",
   "execution_count": 9,
   "metadata": {},
   "outputs": [],
   "source": [
    "results = pd.DataFrame(ddg(query,region,safeseach,time,max_results,output,download))"
   ]
  },
  {
   "cell_type": "code",
   "execution_count": 10,
   "metadata": {},
   "outputs": [
    {
     "data": {
      "text/plain": [
       "(99, 3)"
      ]
     },
     "execution_count": 10,
     "metadata": {},
     "output_type": "execute_result"
    }
   ],
   "source": [
    "results.shape"
   ]
  },
  {
   "cell_type": "code",
   "execution_count": null,
   "metadata": {},
   "outputs": [],
   "source": []
  }
 ],
 "metadata": {
  "kernelspec": {
   "display_name": "Python 3.9.12 ('base')",
   "language": "python",
   "name": "python3"
  },
  "language_info": {
   "codemirror_mode": {
    "name": "ipython",
    "version": 3
   },
   "file_extension": ".py",
   "mimetype": "text/x-python",
   "name": "python",
   "nbconvert_exporter": "python",
   "pygments_lexer": "ipython3",
   "version": "3.9.12"
  },
  "orig_nbformat": 4,
  "vscode": {
   "interpreter": {
    "hash": "7c0295490fe2d32d43df6205ab9426ef1aafaa262ea3093650467397a43b2306"
   }
  }
 },
 "nbformat": 4,
 "nbformat_minor": 2
}
